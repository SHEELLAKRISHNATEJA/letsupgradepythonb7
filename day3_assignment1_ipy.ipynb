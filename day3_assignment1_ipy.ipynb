{
  "nbformat": 4,
  "nbformat_minor": 0,
  "metadata": {
    "colab": {
      "name": "day3 assignment1.ipy",
      "provenance": [],
      "collapsed_sections": [],
      "authorship_tag": "ABX9TyPLT4gMAac5562gt91hTVJG",
      "include_colab_link": true
    },
    "kernelspec": {
      "name": "python3",
      "display_name": "Python 3"
    }
  },
  "cells": [
    {
      "cell_type": "markdown",
      "metadata": {
        "id": "view-in-github",
        "colab_type": "text"
      },
      "source": [
        "<a href=\"https://colab.research.google.com/github/SHEELLAKRISHNATEJA/letsupgradepythonb7/blob/master/day3_assignment1_ipy.ipynb\" target=\"_parent\"><img src=\"https://colab.research.google.com/assets/colab-badge.svg\" alt=\"Open In Colab\"/></a>"
      ]
    },
    {
      "cell_type": "code",
      "metadata": {
        "id": "1UiFXc2cUWDr",
        "colab_type": "code",
        "colab": {}
      },
      "source": [
        ""
      ],
      "execution_count": null,
      "outputs": []
    },
    {
      "cell_type": "code",
      "metadata": {
        "id": "ZJ1ARh6VS59N",
        "colab_type": "code",
        "colab": {
          "base_uri": "https://localhost:8080/",
          "height": 51
        },
        "outputId": "7d65e9a9-cd39-4c2a-b927-ed3a82fd9cb0"
      },
      "source": [
        "altitude=int(input(\"enter the altitude height\"))\n",
        "if altitude<=1000:\n",
        "  print(\"land safely\")\n",
        "elif altitude>1000 and altitude<5000:\n",
        "  print(\"bring down to 1000\")\n",
        "else:\n",
        "  print(\"ask the pylot to turn around\")"
      ],
      "execution_count": null,
      "outputs": [
        {
          "output_type": "stream",
          "text": [
            "enter the altitude height1000\n",
            "land safely\n"
          ],
          "name": "stdout"
        }
      ]
    },
    {
      "cell_type": "code",
      "metadata": {
        "id": "guiSkZdacPfi",
        "colab_type": "code",
        "colab": {}
      },
      "source": [
        ""
      ],
      "execution_count": null,
      "outputs": []
    }
  ]
}