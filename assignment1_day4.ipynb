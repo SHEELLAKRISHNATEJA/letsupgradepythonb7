{
  "nbformat": 4,
  "nbformat_minor": 0,
  "metadata": {
    "colab": {
      "name": "assignment1 day4.ipynb",
      "provenance": [],
      "authorship_tag": "ABX9TyO474NA3D8222bQu+UvpeQd",
      "include_colab_link": true
    },
    "kernelspec": {
      "name": "python3",
      "display_name": "Python 3"
    }
  },
  "cells": [
    {
      "cell_type": "markdown",
      "metadata": {
        "id": "view-in-github",
        "colab_type": "text"
      },
      "source": [
        "<a href=\"https://colab.research.google.com/github/SHEELLAKRISHNATEJA/letsupgradepythonb7/blob/master/assignment1_day4.ipynb\" target=\"_parent\"><img src=\"https://colab.research.google.com/assets/colab-badge.svg\" alt=\"Open In Colab\"/></a>"
      ]
    },
    {
      "cell_type": "code",
      "metadata": {
        "id": "973UFWqZ5EkZ",
        "colab_type": "code",
        "colab": {
          "base_uri": "https://localhost:8080/",
          "height": 272
        },
        "outputId": "fac53c7d-43f0-49ee-9f65-ba1f316b3983"
      },
      "source": [
        "lower=1042000\n",
        "upper=702648265\n",
        "for num in range(lower,upper+1):\n",
        "  order=len(str(num))\n",
        "  sum=0\n",
        "  temp=num\n",
        "  while temp>0:\n",
        "    digit=temp%10\n",
        "    sum += digit ** order\n",
        "    temp //= 10\n",
        "    if num==sum:\n",
        "      print(\"the first armstrong number is:\" , num)\n",
        "    \n",
        "  \n",
        "\n",
        "    \n",
        "    \n"
      ],
      "execution_count": null,
      "outputs": [
        {
          "output_type": "stream",
          "text": [
            "the first armstrong number is: 1741725\n",
            "the first armstrong number is: 2097280\n",
            "the first armstrong number is: 2097281\n",
            "the first armstrong number is: 3278756\n",
            "the first armstrong number is: 4210818\n",
            "the first armstrong number is: 4782969\n",
            "the first armstrong number is: 4861095\n",
            "the first armstrong number is: 9800817\n",
            "the first armstrong number is: 9926315\n",
            "the first armstrong number is: 16790338\n",
            "the first armstrong number is: 16790338\n",
            "the first armstrong number is: 21816066\n",
            "the first armstrong number is: 24678050\n",
            "the first armstrong number is: 24678051\n",
            "the first armstrong number is: 26682755\n"
          ],
          "name": "stdout"
        }
      ]
    },
    {
      "cell_type": "code",
      "metadata": {
        "id": "sb0l0ryRBJsp",
        "colab_type": "code",
        "colab": {}
      },
      "source": [
        ""
      ],
      "execution_count": null,
      "outputs": []
    }
  ]
}